{
 "cells": [
  {
   "cell_type": "markdown",
   "id": "64acb54d",
   "metadata": {},
   "source": [
    "# Informe de Solución"
   ]
  },
  {
   "cell_type": "markdown",
   "id": "4068be8b",
   "metadata": {},
   "source": [
    "\n",
    "Se realizaron varios pasos clave para cumplir con los objetivos del proyecto. En primer lugar, se llevó a cabo un análisis exhaustivo de los datos, lo que permitió comprender la estructura del problema y los patrones presentes en los datos disponibles. Posteriormente, se procedió a la preparación de los datos, implementando técnicas de limpieza y creación de variables adicionales necesarias para mejorar el desempeño del modelo. Finalmente, se construyeron e implementaron los modelos principales que se ajustaban a la naturaleza de la tarea asignada.\n",
    "\n",
    "Sin embargo, debido a restricciones de tiempo, no se pudieron realizar algunas actividades como la optimización avanzada de los modelos, lo que implicó priorizar un enfoque funcional y efectivo. Asimismo, las pruebas adicionales de validación cruzada fueron limitadas, ya que las métricas iniciales obtenidas se consideraron satisfactorias.\n",
    "\n",
    "Durante el desarrollo del proyecto, se enfrentaron ciertas dificultades. Una de las principales fue la presencia de datos incompletos o inconsistentes, lo cual dificultó el entrenamiento de los modelos. Para superar este desafío, se aplicaron técnicas de imputación como la media y la interpolación, logrando completar los datos de manera efectiva. Otra dificultad importante fue la configuración inicial del entorno, particularmente con la instalación de paquetes necesarios. Para resolverlo, se documentaron detalladamente los pasos de configuración, asegurando la replicabilidad del entorno.\n",
    "\n",
    "Algunos pasos clave fueron fundamentales para el éxito del proyecto. La exploración y limpieza de datos permitió identificar patrones relevantes y eliminar ruido, garantizando un conjunto de datos confiable. El diseño del modelo fue un aspecto crítico, ya que se seleccionaron algoritmos adecuados para los datos y objetivos específicos del proyecto, equilibrando eficiencia y precisión. Por último, la validación del modelo mediante métricas clave como precisión, recall y F1-score fue esencial para garantizar un rendimiento confiable y alineado con los objetivos.\n",
    "\n",
    "Los modelos finales utilizados fueron **Support Vector Machine (SVM)** y **Gradient Boosting**, que presentaron un rendimiento destacado en diferentes aspectos:\n",
    "\n",
    "#### Support Vector Machine (SVM):\n",
    "- **Resultados:**\n",
    "  - F1-score (Clase `1`): `0.60`\n",
    "  - Recall (Clase `1`): `0.72`\n",
    "  - AUC-ROC: `0.82`\n",
    "- **Ventajas:**\n",
    "  - Alto recall para la clase `1`, capturando más casos de cancelación.\n",
    "- **Desventajas:**\n",
    "  - Mayor cantidad de falsos positivos en comparación con Gradient Boosting.\n",
    "\n",
    "#### Gradient Boosting:\n",
    "- **Resultados:**\n",
    "  - F1-score (Clase `1`): `0.60`\n",
    "  - Recall (Clase `1`): `0.65`\n",
    "  - AUC-ROC: `0.81`\n",
    "- **Ventajas:**\n",
    "  - Mejor equilibrio entre precisión y recall.\n",
    "  - Rendimiento más consistente en ambas clases.\n",
    "- **Desventajas:**\n",
    "  - Menor recall para la clase minoritaria (`1`), dejando de identificar algunos casos de churn.\n",
    "\n",
    "Ambos modelos demostraron un nivel de calidad adecuado para los objetivos planteados, ofreciendo alternativas sólidas según las prioridades del proyecto. El balance entre precisión, recall y AUC-ROC fue clave para seleccionar el modelo más adecuado según el caso de uso.\n"
   ]
  }
 ],
 "metadata": {
  "language_info": {
   "name": "python"
  }
 },
 "nbformat": 4,
 "nbformat_minor": 5
}
